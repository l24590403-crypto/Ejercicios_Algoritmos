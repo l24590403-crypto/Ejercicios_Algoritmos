{
  "nbformat": 4,
  "nbformat_minor": 0,
  "metadata": {
    "colab": {
      "provenance": [],
      "authorship_tag": "ABX9TyNoJ62xzVpBmwDmahgmbe+i",
      "include_colab_link": true
    },
    "kernelspec": {
      "name": "python3",
      "display_name": "Python 3"
    },
    "language_info": {
      "name": "python"
    }
  },
  "cells": [
    {
      "cell_type": "markdown",
      "metadata": {
        "id": "view-in-github",
        "colab_type": "text"
      },
      "source": [
        "<a href=\"https://colab.research.google.com/github/l24590403-crypto/Ejercicios_Algoritmos/blob/main/Mayusculas.ipynb\" target=\"_parent\"><img src=\"https://colab.research.google.com/assets/colab-badge.svg\" alt=\"Open In Colab\"/></a>"
      ]
    },
    {
      "cell_type": "markdown",
      "source": [
        "-Tipo:Deterministico\n",
        "\n",
        "\n",
        "1:Determinar que operaciones:  Binario ya que se comparara\n",
        "2:Determinar el conjunto de Datos: Espacios en blanco, si la letra ya esta en mayuscula o no .\n",
        "3:Analisis a priori: Se tiene que recorrer el tamanio del string en un tiempo constante y se realiza una comparación por cada carácter\n",
        "4:Analisis a posteriori: En pruebas reales, el tiempo crece proporcionalmente al número de caracteres."
      ],
      "metadata": {
        "id": "Ps6Zu_zTuWLY"
      }
    },
    {
      "cell_type": "code",
      "execution_count": 1,
      "metadata": {
        "colab": {
          "base_uri": "https://localhost:8080/"
        },
        "id": "ph8NeQIVuQ8a",
        "outputId": "42242415-455a-4ba2-ab2f-3a08f4d52d1d"
      },
      "outputs": [
        {
          "output_type": "stream",
          "name": "stdout",
          "text": [
            "Hola Mundo Esto Es Una Prueba\n"
          ]
        }
      ],
      "source": [
        "class Cola:\n",
        "    def __init__(self):\n",
        "        self.items = []\n",
        "\n",
        "    def enqueue(self, dato):\n",
        "        self.items.append(dato)\n",
        "\n",
        "    def dequeue(self):\n",
        "        return self.items.pop(0) if not self.is_empty() else None\n",
        "\n",
        "    def front(self):\n",
        "        return self.items[0] if not self.is_empty() else None\n",
        "\n",
        "    def is_empty(self):\n",
        "        return len(self.items) == 0\n",
        "\n",
        "\n",
        "def poner_mayusculas(texto):\n",
        "    cola = Cola()\n",
        "\n",
        "\n",
        "    for c in texto:\n",
        "        cola.enqueue(c)\n",
        "\n",
        "    resultado = \"\"\n",
        "    inicio_palabra = True\n",
        "\n",
        "\n",
        "    while not cola.is_empty():\n",
        "        c = cola.dequeue()\n",
        "        codigo = ord(c)\n",
        "\n",
        "        if inicio_palabra and (97 <= codigo <= 122):\n",
        "            resultado += chr(codigo - 32)\n",
        "        else:\n",
        "            resultado += c\n",
        "\n",
        "\n",
        "        if c == \" \":\n",
        "            inicio_palabra = True\n",
        "        else:\n",
        "            inicio_palabra = False\n",
        "\n",
        "    return resultado\n",
        "\n",
        "\n",
        "\n",
        "texto = \"hola mundo esto es una prueba\"\n",
        "print(poner_mayusculas(texto))\n"
      ]
    }
  ]
}