{
  "nbformat": 4,
  "nbformat_minor": 0,
  "metadata": {
    "colab": {
      "provenance": [],
      "authorship_tag": "ABX9TyMJqZbnQcredlxkOEYyhfHx",
      "include_colab_link": true
    },
    "kernelspec": {
      "name": "python3",
      "display_name": "Python 3"
    },
    "language_info": {
      "name": "python"
    }
  },
  "cells": [
    {
      "cell_type": "markdown",
      "metadata": {
        "id": "view-in-github",
        "colab_type": "text"
      },
      "source": [
        "<a href=\"https://colab.research.google.com/github/l24590403-crypto/Ejercicios_Algoritmos/blob/main/Binario_Decimal.ipynb\" target=\"_parent\"><img src=\"https://colab.research.google.com/assets/colab-badge.svg\" alt=\"Open In Colab\"/></a>"
      ]
    },
    {
      "cell_type": "markdown",
      "source": [
        "BINARIO A DECIMAL\n",
        "\n",
        "-Crea un programa que se encargue de tranformar un numero binario a decimal sin utilizar funciones propias del lenguaje que lo hagan directamente.\n",
        "\n",
        "-Tipo: No Deterministico\n",
        "\n",
        "\n",
        "1:Determinar que operaciones:  Binario se realizan comparaciones\n",
        "2:Determinar el conjunto de Datos: si es el ultimo valor ingresado, potencia a la que se eleva\n",
        "3:Analisis a priori:  Se toma el ultimo valor y se eleva , todo esto en un tiempo constante\n",
        "4:Analisis a posteriori: El tiempo varia al tamanio del numero ingresado en binario."
      ],
      "metadata": {
        "id": "oy7cc9R84ALv"
      }
    },
    {
      "cell_type": "code",
      "execution_count": 1,
      "metadata": {
        "colab": {
          "base_uri": "https://localhost:8080/"
        },
        "id": "iBRoTeTi33-F",
        "outputId": "64addc2c-49e0-4640-b08a-8f7d6a3358b0"
      },
      "outputs": [
        {
          "output_type": "stream",
          "name": "stdout",
          "text": [
            "Binario: 1011\n",
            "Decimal: 11\n"
          ]
        }
      ],
      "source": [
        "class Pila:\n",
        "    def __init__(self):\n",
        "        self.items = []\n",
        "\n",
        "    def push(self, dato):\n",
        "        self.items.append(dato)\n",
        "\n",
        "    def pop(self):\n",
        "        return self.items.pop() if not self.is_empty() else None\n",
        "\n",
        "    def peek(self):\n",
        "        return self.items[-1] if not self.is_empty() else None\n",
        "\n",
        "    def is_empty(self):\n",
        "        return len(self.items) == 0\n",
        "\n",
        "\n",
        "def binario_a_decimal(binario):\n",
        "    pila = Pila()\n",
        "\n",
        "    for digito in binario:\n",
        "        pila.push(int(digito))\n",
        "\n",
        "    decimal = 0\n",
        "    potencia = 0\n",
        "\n",
        "    while not pila.is_empty():\n",
        "        valor = pila.pop()\n",
        "        decimal += valor * (2 ** potencia)\n",
        "        potencia += 1\n",
        "\n",
        "    return decimal\n",
        "\n",
        "\n",
        "\n",
        "binario = \"1011\"\n",
        "print(\"Binario:\", binario)\n",
        "print(\"Decimal:\", binario_a_decimal(binario))\n",
        "\n"
      ]
    }
  ]
}